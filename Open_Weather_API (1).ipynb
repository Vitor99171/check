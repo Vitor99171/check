{
  "nbformat": 4,
  "nbformat_minor": 0,
  "metadata": {
    "colab": {
      "provenance": []
    },
    "kernelspec": {
      "name": "python3",
      "display_name": "Python 3"
    },
    "language_info": {
      "name": "python"
    }
  },
  "cells": [
    {
      "cell_type": "markdown",
      "source": [
        "# Consumindo a API do OPEN WEATHER\n",
        "\n",
        "OpenWeatherMap é um serviço online, de propriedade da OpenWeather Ltd, que fornece dados meteorológicos globais via API, incluindo dados meteorológicos atuais, previsões, previsões e dados meteorológicos históricos para qualquer localização geográfica\n",
        "\n",
        "https://openweathermap.org/\n",
        "\n",
        "\n"
      ],
      "metadata": {
        "id": "QLmc9l-wk9tK"
      }
    },
    {
      "cell_type": "markdown",
      "source": [
        "## Exercício\n",
        "\n",
        "Consuma a API OPEN WEATHER de uma cidade que comece com a mesma letra do seu nome, normalize a saida para que seja amigavel para o usuário, e converta as unidades para os padrões que usamos no Brasil.\n",
        "\n",
        "Para isso consulte a documentação do openweather, doc da biblioteca \"requests\" do python e materiais onlines\n",
        "\n",
        "Após terminar o exercicio, disponibilize um link do **github** em um repositorio da sua escolha para a correção\n",
        "\n",
        "*Arquivo > Salvar uma cópia no Github*\n",
        "\n",
        "Insira seu nome e RM abaixo"
      ],
      "metadata": {
        "id": "qPrM1XR3lcsx"
      }
    },
    {
      "cell_type": "code",
      "source": [
        "nome = input('Insira seu nome: ')\n",
        "rm = input('Insira seu rm: ')"
      ],
      "metadata": {
        "colab": {
          "base_uri": "https://localhost:8080/"
        },
        "id": "vv5aH-8pmZLx",
        "outputId": "7a3e0512-0e9c-406d-ec14-fd4b31aaa7ce"
      },
      "execution_count": 1,
      "outputs": [
        {
          "name": "stdout",
          "output_type": "stream",
          "text": [
            "Insira seu nome: Vitor Manzoli\n",
            "Insira seu rm: 551551\n"
          ]
        }
      ]
    },
    {
      "cell_type": "markdown",
      "source": [
        "# Utilize a **Current weather data** para acessar o clima local da cidade\n",
        "\n",
        "Exemplo de endpoint utilizado na doc da api\n",
        "\n",
        "https://api.openweathermap.org/data/2.5/weather?lat={lat}&lon={lon}&appid={API_key}"
      ],
      "metadata": {
        "id": "2LcLA-zQnpmJ"
      }
    },
    {
      "cell_type": "code",
      "source": [
        "#Lembre-se de importar a biblioteca\n",
        "import requests"
      ],
      "metadata": {
        "id": "gDeBIuvpwSWo"
      },
      "execution_count": 2,
      "outputs": []
    },
    {
      "cell_type": "code",
      "execution_count": 17,
      "metadata": {
        "colab": {
          "base_uri": "https://localhost:8080/"
        },
        "id": "oT2RcDkNkpDi",
        "outputId": "f68b28ad-5be2-47f1-9b6e-c6b882300cf3"
      },
      "outputs": [
        {
          "output_type": "execute_result",
          "data": {
            "text/plain": [
              "{'coord': {'lon': -46.9958, 'lat': -22.9706},\n",
              " 'weather': [{'id': 802,\n",
              "   'main': 'Clouds',\n",
              "   'description': 'scattered clouds',\n",
              "   'icon': '03d'}],\n",
              " 'base': 'stations',\n",
              " 'main': {'temp': 304.02,\n",
              "  'feels_like': 304.66,\n",
              "  'temp_min': 304.02,\n",
              "  'temp_max': 304.86,\n",
              "  'pressure': 1017,\n",
              "  'humidity': 45},\n",
              " 'visibility': 10000,\n",
              " 'wind': {'speed': 3.09, 'deg': 300},\n",
              " 'clouds': {'all': 40},\n",
              " 'dt': 1679678398,\n",
              " 'sys': {'type': 1,\n",
              "  'id': 8393,\n",
              "  'country': 'BR',\n",
              "  'sunrise': 1679649178,\n",
              "  'sunset': 1679692536},\n",
              " 'timezone': -10800,\n",
              " 'id': 3445578,\n",
              " 'name': 'Valinhos',\n",
              " 'cod': 200}"
            ]
          },
          "metadata": {},
          "execution_count": 17
        }
      ],
      "source": [
        "API_KEY = \"0a8587180437b943463c4a000fdbaf8e\"\n",
        "cidade= \"Valinhos\"\n",
        "endpoint = f\"https://api.openweathermap.org/data/2.5/weather?q=Valinhos,BR&appid={API_KEY}\"\n",
        "\n",
        "requisicao = requests.get(endpoint)\n",
        "resposta = requisicao.json()\n",
        "resposta\n"
      ]
    },
    {
      "cell_type": "markdown",
      "source": [
        "A saida da sua API deve conter 2 informações essenciais:\n",
        "\n",
        "\n",
        "\n",
        "1.   Descrição ( description )\n",
        "2.   Temperatura em Celsius ( temp )\n",
        "\n",
        "Insira abaixo a saida normalizada:\n"
      ],
      "metadata": {
        "id": "01EQXOH_oekh"
      }
    },
    {
      "cell_type": "code",
      "source": [
        "desc = resposta['weather'][0]['description']\n",
        "temp = resposta['main']['temp']\n",
        "\n",
        "print(desc, temp)\n",
        "\n",
        "\n"
      ],
      "metadata": {
        "colab": {
          "base_uri": "https://localhost:8080/"
        },
        "id": "gD0e0T8YtyEB",
        "outputId": "05e79922-7876-49cc-b931-41f3f06fa520"
      },
      "execution_count": 18,
      "outputs": [
        {
          "output_type": "stream",
          "name": "stdout",
          "text": [
            "scattered clouds 304.02\n"
          ]
        }
      ]
    },
    {
      "cell_type": "code",
      "source": [
        "temp_c = temp - 273\n",
        "print(f\"Grau Celcius: {temp_c:.2f}\")"
      ],
      "metadata": {
        "colab": {
          "base_uri": "https://localhost:8080/"
        },
        "id": "5aIfArEAufCo",
        "outputId": "8d617f3e-680c-4a1a-db6e-b9ffc9fe12e0"
      },
      "execution_count": 19,
      "outputs": [
        {
          "output_type": "stream",
          "name": "stdout",
          "text": [
            "Grau Celcius: 31.02\n"
          ]
        }
      ]
    }
  ]
}